{
 "cells": [
  {
   "cell_type": "markdown",
   "metadata": {},
   "source": [
    "# Body Mass Index Calculator\n",
    "\n",
    "This program calculates BMI based on given information  \n",
    "Weight must be in **kilograms**  \n",
    "Height must be in **meters**  \n",
    "Convertor attached below"
   ]
  },
  {
   "cell_type": "markdown",
   "metadata": {},
   "source": [
    "## BMI Calculator"
   ]
  },
  {
   "cell_type": "code",
   "execution_count": null,
   "metadata": {},
   "outputs": [],
   "source": [
    "import decimal\n",
    "def bmi():\n",
    "    print(\"Welcome to the BMI calculator\")\n",
    "    w = input(\"What is the weight of the person? \")\n",
    "    h = input(\"What is the height of the person? \")\n",
    "    h = decimal.Decimal(h)*decimal.Decimal(h)\n",
    "    w = decimal.Decimal(w)\n",
    "    bmi = w/(h)\n",
    "    bmi = float(\"{0:.2f}\".format(bmi))\n",
    "\n",
    "    #Conditions\n",
    "    if bmi >= 18.5 and bmi <= 25:\n",
    "        print(\"Youre BMI is \", bmi, \" which classifies you as Normal Weight\")\n",
    "    elif bmi < 18.5:\n",
    "        print(\"Youre BMI is \", bmi, \" which classifies you as Underweight\")\n",
    "    elif bmi > 25:\n",
    "        print(\"Youre BMI is \", bmi,\" which classifies you as Overweight\")\n",
    "\n",
    "\n",
    "bmi()"
   ]
  },
  {
   "cell_type": "markdown",
   "metadata": {},
   "source": [
    "## Unit Convertor\n",
    "\n",
    "Coverts pounds (lbs) to kilograms (kg)  \n",
    "Coverts inches (in) to meters (m)"
   ]
  },
  {
   "cell_type": "code",
   "execution_count": 9,
   "metadata": {},
   "outputs": [],
   "source": [
    "import decimal\n",
    "def convertor(value, unit):\n",
    "    value = float(decimal.Decimal(value))\n",
    "    if unit == 'in' or unit == 'inches':\n",
    "        return 'Height in meters is', float(value/39.37)\n",
    "    \n",
    "    if unit == 'lbs' or unit == 'pounds':\n",
    "        return 'Weight in kilograms is', float(value/2.204622)\n",
    "\n",
    "value = input(\"What is the value that you would like to convert? \")\n",
    "unit = input(\"What unit are you inputting?\\nHeight = inches\\nWeight = lbs\")\n",
    "\n",
    "convertor(value, unit)"
   ]
  }
 ],
 "metadata": {
  "kernelspec": {
   "display_name": "Python 3.10.7 64-bit",
   "language": "python",
   "name": "python3"
  },
  "language_info": {
   "codemirror_mode": {
    "name": "ipython",
    "version": 3
   },
   "file_extension": ".py",
   "mimetype": "text/x-python",
   "name": "python",
   "nbconvert_exporter": "python",
   "pygments_lexer": "ipython3",
   "version": "3.10.7"
  },
  "orig_nbformat": 4,
  "vscode": {
   "interpreter": {
    "hash": "fccf4af24601f63d4dc7e4cfea909002a0a964b6ef1e66db731d4adba361d32c"
   }
  }
 },
 "nbformat": 4,
 "nbformat_minor": 2
}
